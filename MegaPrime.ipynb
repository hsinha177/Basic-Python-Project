{
  "nbformat": 4,
  "nbformat_minor": 0,
  "metadata": {
    "colab": {
      "name": "MegaPrime.ipynb",
      "provenance": [],
      "collapsed_sections": [],
      "authorship_tag": "ABX9TyOJolW2UUcviQXX/DEip7zw",
      "include_colab_link": true
    },
    "kernelspec": {
      "name": "python3",
      "display_name": "Python 3"
    }
  },
  "cells": [
    {
      "cell_type": "markdown",
      "metadata": {
        "id": "view-in-github",
        "colab_type": "text"
      },
      "source": [
        "<a href=\"https://colab.research.google.com/github/hsinha177/Basic-Python-Project/blob/master/MegaPrime.ipynb\" target=\"_parent\"><img src=\"https://colab.research.google.com/assets/colab-badge.svg\" alt=\"Open In Colab\"/></a>"
      ]
    },
    {
      "cell_type": "code",
      "metadata": {
        "id": "88Z9jd3e5h1n",
        "colab_type": "code",
        "colab": {
          "base_uri": "https://localhost:8080/",
          "height": 85
        },
        "outputId": "86fa2adf-6d7c-4f97-a9ac-3dd67c4749a5"
      },
      "source": [
        "import time\n",
        "AllPrime = []\n",
        "MegaPrime = [2,3,5,7]\n",
        "def PrimeDigitinRange(x,y):\n",
        "  for i in range(x,y+1):\n",
        "    if i>1:\n",
        "      for j in range(2,i):\n",
        "        if i % j == 0: \n",
        "          break\n",
        "      else:\n",
        "        AllPrime.append(i)\n",
        "\n",
        "def MegaPrimeCheck(AllPrime):\n",
        "  num = []\n",
        "  for i in AllPrime:\n",
        "    if i in [2,3,5,7]:continue\n",
        "    else:\n",
        "      c=0\n",
        "      itemp = str (i)\n",
        "      while i>0: r = i % 10;num.append(r);i= i//10\n",
        "      #print(num)\n",
        "      for j in num : \n",
        "        if (j in [2,3,5,7]):c = c+1\n",
        "        else: num.clear();break\n",
        "      if c==len(itemp):\n",
        "        MegaPrime.append(int(itemp));num.clear()\n",
        "        \n",
        "\n",
        "low = int(input(\"lower limit: \"))\n",
        "high = int(input(\"higher limit: \"))\n",
        "start = time.time()\n",
        "PrimeDigitinRange(low,high)\n",
        "#print(AllPrime)\n",
        "MegaPrimeCheck(AllPrime)\n",
        "#print(MegaPrime)\n",
        "print(len(MegaPrime))\n",
        "end = time.time()\n",
        "print(\"Execution time in sec : {0}\".format(end-start))"
      ],
      "execution_count": 1,
      "outputs": [
        {
          "output_type": "stream",
          "text": [
            "lower limit: 500\n",
            "higher limit: 50000\n",
            "112\n",
            "Execution time in sec : 8.720017194747925\n"
          ],
          "name": "stdout"
        }
      ]
    },
    {
      "cell_type": "code",
      "metadata": {
        "id": "f8TEtFhq5m0p",
        "colab_type": "code",
        "colab": {}
      },
      "source": [
        ""
      ],
      "execution_count": null,
      "outputs": []
    }
  ]
}
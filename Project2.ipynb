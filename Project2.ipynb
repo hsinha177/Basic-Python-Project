{
  "nbformat": 4,
  "nbformat_minor": 0,
  "metadata": {
    "colab": {
      "name": "Project2.ipynb",
      "provenance": [],
      "collapsed_sections": []
    },
    "kernelspec": {
      "name": "python3",
      "display_name": "Python 3"
    }
  },
  "cells": [
    {
      "cell_type": "markdown",
      "metadata": {
        "id": "K4-nP41bK18w",
        "colab_type": "text"
      },
      "source": [
        "Dice rolling (Without GUI)"
      ]
    },
    {
      "cell_type": "code",
      "metadata": {
        "id": "ldA4CvCQJUkV",
        "colab_type": "code",
        "colab": {
          "base_uri": "https://localhost:8080/",
          "height": 935
        },
        "outputId": "5004f818-338b-4572-e19c-b063370f137c"
      },
      "source": [
        "import random\n",
        "\n",
        "hiGGest = 6\n",
        "loWEst = 1\n",
        "\n",
        "print(\"Do you want to roll the dice ? \")\n",
        "print(\"Press '1' to continue...\")\n",
        "print(\"To exit press '0' \")\n",
        "\n",
        "perMission = int(input())\n",
        "\n",
        "while (perMission == 1 ):\n",
        "\n",
        "      print(\"\\nYou got : \",random.randrange(loWEst,hiGGest,1),\"\\n\")\n",
        "      print(\"Do you want to roll the dice again? \")\n",
        "      print(\"Press '1' to continue...\")\n",
        "      print(\"To exit press '0' \")\n",
        "      perMission = int(input())\n",
        "\n",
        "print(\"Thank you for playing !\")"
      ],
      "execution_count": 14,
      "outputs": [
        {
          "output_type": "stream",
          "text": [
            "Do you want to roll the dice ? \n",
            "Press '1' to continue...\n",
            "To exit press '0' \n",
            "1\n",
            "\n",
            "You got :  2 \n",
            "\n",
            "Do you want to roll the dice again? \n",
            "Press '1' to continue...\n",
            "To exit press '0' \n",
            "1\n",
            "\n",
            "You got :  2 \n",
            "\n",
            "Do you want to roll the dice again? \n",
            "Press '1' to continue...\n",
            "To exit press '0' \n",
            "1\n",
            "\n",
            "You got :  2 \n",
            "\n",
            "Do you want to roll the dice again? \n",
            "Press '1' to continue...\n",
            "To exit press '0' \n",
            "1\n",
            "\n",
            "You got :  1 \n",
            "\n",
            "Do you want to roll the dice again? \n",
            "Press '1' to continue...\n",
            "To exit press '0' \n",
            "1\n",
            "\n",
            "You got :  3 \n",
            "\n",
            "Do you want to roll the dice again? \n",
            "Press '1' to continue...\n",
            "To exit press '0' \n",
            "1\n",
            "\n",
            "You got :  5 \n",
            "\n",
            "Do you want to roll the dice again? \n",
            "Press '1' to continue...\n",
            "To exit press '0' \n",
            "1\n",
            "\n",
            "You got :  2 \n",
            "\n",
            "Do you want to roll the dice again? \n",
            "Press '1' to continue...\n",
            "To exit press '0' \n",
            "0\n",
            "Thank you for playing !\n"
          ],
          "name": "stdout"
        }
      ]
    },
    {
      "cell_type": "code",
      "metadata": {
        "id": "YNX3gIcNIbm9",
        "colab_type": "code",
        "colab": {}
      },
      "source": [
        "0"
      ],
      "execution_count": 0,
      "outputs": []
    }
  ]
}
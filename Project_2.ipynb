{
  "nbformat": 4,
  "nbformat_minor": 0,
  "metadata": {
    "colab": {
      "name": "Project 2.ipynb",
      "provenance": [],
      "collapsed_sections": []
    },
    "kernelspec": {
      "name": "python3",
      "display_name": "Python 3"
    }
  },
  "cells": [
    {
      "cell_type": "markdown",
      "metadata": {
        "id": "4GLlJHxcoyp5",
        "colab_type": "text"
      },
      "source": [
        "Dice Rolling (without GUI)"
      ]
    },
    {
      "cell_type": "code",
      "metadata": {
        "id": "KzcGZbzXNe9_",
        "colab_type": "code",
        "colab": {
          "base_uri": "https://localhost:8080/",
          "height": 357
        },
        "outputId": "4e3905aa-8e94-44ac-f79c-877dea9a965d"
      },
      "source": [
        "import random\n",
        "\n",
        "hiGGest = 6\n",
        "loWEst = 1\n",
        "\n",
        "print(\"Do you want to roll the dice ? \")\n",
        "print(\"Press 'Y' to continue...\")\n",
        "print(\"To exit press 'Q' \")\n",
        "\n",
        "perMission = ord(input())\n",
        "\n",
        "while (perMission == 89) | (perMission == 121 ):\n",
        "\n",
        "      print(\"\\nYou got : \",random.randrange(loWEst,hiGGest,1),\"\\n\")\n",
        "      print(\"Do you want to roll the dice again? \")\n",
        "      print(\"Press 'Y' to continue...\")\n",
        "      print(\"To exit press 'Q' \")\n",
        "      perMission = ord(input())\n",
        "\n",
        "if(perMission==81) | (perMission==113):\n",
        "  print(\"Thank you for playing !\")\n",
        "\n",
        "else:\n",
        "  print(\"Invalid Key pressed! Exiting...\")"
      ],
      "execution_count": 24,
      "outputs": [
        {
          "output_type": "stream",
          "text": [
            "Do you want to roll the dice ? \n",
            "Press 'Y' to continue...\n",
            "To exit press 'Q' \n",
            "y\n",
            "121\n",
            "\n",
            "You got :  4 \n",
            "\n",
            "Do you want to roll the dice again? \n",
            "Press 'Y' to continue...\n",
            "To exit press 'Q' \n",
            "Y\n",
            "\n",
            "You got :  4 \n",
            "\n",
            "Do you want to roll the dice again? \n",
            "Press 'Y' to continue...\n",
            "To exit press 'Q' \n",
            "q\n",
            "Thank you for playing !\n"
          ],
          "name": "stdout"
        }
      ]
    }
  ]
}

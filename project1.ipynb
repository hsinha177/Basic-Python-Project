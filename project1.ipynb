{
  "nbformat": 4,
  "nbformat_minor": 0,
  "metadata": {
    "colab": {
      "name": "project1.ipynb",
      "provenance": [],
      "collapsed_sections": []
    },
    "kernelspec": {
      "name": "python3",
      "display_name": "Python 3"
    }
  },
  "cells": [
    {
      "cell_type": "markdown",
      "metadata": {
        "id": "H1R4ZYlCzhdu",
        "colab_type": "text"
      },
      "source": [
        " Number Guessing"
      ]
    },
    {
      "cell_type": "code",
      "metadata": {
        "id": "ggo-u7ot1N_z",
        "colab_type": "code",
        "colab": {
          "base_uri": "https://localhost:8080/",
          "height": 544
        },
        "outputId": "cfba1666-8375-4c20-f03f-96f3628ea52f"
      },
      "source": [
        "import random\n",
        "\n",
        "liFe = 5\n",
        "\n",
        "while(liFe>=1):\n",
        "  nuM = random.randrange(0,99,2)\n",
        "  #print (nuM)\n",
        "  print(\"Life remaining : \",liFe)\n",
        "  Ans = int(input(\"Guess the number : \"))\n",
        "  if (Ans==nuM) & (liFe!=0):\n",
        "    print(\"Right Answer.\")\n",
        "    print(\"Level UP\")\n",
        "    print(\"\\n\")\n",
        "    continue\n",
        "  elif ((Ans> nuM)|(Ans< nuM)) & (liFe!=0):\n",
        "    while(liFe!=0):\n",
        "      if (Ans> nuM)&(liFe!=0):\n",
        "        liFe-=1\n",
        "        if(liFe==0):\n",
        "          break\n",
        "        else:\n",
        "          print(\"Wrong Answer.\")\n",
        "          print(\"Life remaining : \",liFe)\n",
        "          print(\"Hint : Smaller Number.\")\n",
        "          print(\"\\n\")\n",
        "          Ans=int(input(\"Guess the number : \"))        \n",
        "      elif (Ans<nuM)&(liFe!=0):\n",
        "        liFe-=1\n",
        "        if(liFe==0):\n",
        "          break\n",
        "        else:\n",
        "          print(\"Wrong Answer.\")\n",
        "          print(\"Life remaining : \",liFe)\n",
        "          print(\"Hint : Greater Number.\")\n",
        "          print(\"\\n\")\n",
        "          Ans=int(input(\"Guess the number : \"))\n",
        "      elif(Ans==nuM)&(liFe!=0):\n",
        "        print(\"Right Answer.\")\n",
        "        print(\"Level UP\")\n",
        "        print(\"\\n\")\n",
        "        break\n",
        "if(liFe==0):\n",
        "  print(\"\\n\")\n",
        "  print(\"No life remaining !\")\n",
        "  print(\"Answer : \",nuM)\n",
        "  print(\"You loose!\")\n"
      ],
      "execution_count": 85,
      "outputs": [
        {
          "output_type": "stream",
          "text": [
            "Life remaining :  5\n",
            "Guess the number : 6\n",
            "Wrong Answer.\n",
            "Life remaining :  4\n",
            "Hint : Greater Number.\n",
            "\n",
            "\n",
            "Guess the number : 70\n",
            "Wrong Answer.\n",
            "Life remaining :  3\n",
            "Hint : Smaller Number.\n",
            "\n",
            "\n",
            "Guess the number : 50\n",
            "Wrong Answer.\n",
            "Life remaining :  2\n",
            "Hint : Greater Number.\n",
            "\n",
            "\n",
            "Guess the number : 66\n",
            "Wrong Answer.\n",
            "Life remaining :  1\n",
            "Hint : Smaller Number.\n",
            "\n",
            "\n",
            "Guess the number : 58\n",
            "\n",
            "\n",
            "No life remaining !\n",
            "Answer :  52\n",
            "You loose!\n"
          ],
          "name": "stdout"
        }
      ]
    },
    {
      "cell_type": "code",
      "metadata": {
        "id": "IHpOS1w029hp",
        "colab_type": "code",
        "colab": {}
      },
      "source": [
        ""
      ],
      "execution_count": 0,
      "outputs": []
    }
  ]
}